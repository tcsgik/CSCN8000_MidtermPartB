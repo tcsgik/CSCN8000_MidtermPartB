{
 "cells": [
  {
   "cell_type": "markdown",
   "id": "9e7c4f2f",
   "metadata": {},
   "source": [
    "> Date: 06.19.2025\n",
    "\n",
    "# YuChenChou_9006160_AAIML_MidtermPartB_wine\n",
    "\n",
    "## 1.\tUse wine dataset from sklearn.datasets to classify wines into 3 categories. Load the dataset and split it into test and train. Train the model using Gaussian and Multinominal classifiers and post which model performs better. Use the trained model to perform some predictions on test data."
   ]
  },
  {
   "cell_type": "markdown",
   "id": "ae9b7f27",
   "metadata": {},
   "source": [
    "### Step 1: load dataset"
   ]
  },
  {
   "cell_type": "code",
   "execution_count": 18,
   "id": "f5ce8c5e",
   "metadata": {},
   "outputs": [
    {
     "name": "stdout",
     "output_type": "stream",
     "text": [
      "Display the first few rows of the data set:\n",
      "   alcohol  malic_acid   ash  alcalinity_of_ash  magnesium  total_phenols  \\\n",
      "0    14.23        1.71  2.43               15.6      127.0           2.80   \n",
      "1    13.20        1.78  2.14               11.2      100.0           2.65   \n",
      "2    13.16        2.36  2.67               18.6      101.0           2.80   \n",
      "3    14.37        1.95  2.50               16.8      113.0           3.85   \n",
      "4    13.24        2.59  2.87               21.0      118.0           2.80   \n",
      "\n",
      "   flavanoids  nonflavanoid_phenols  proanthocyanins  color_intensity   hue  \\\n",
      "0        3.06                  0.28             2.29             5.64  1.04   \n",
      "1        2.76                  0.26             1.28             4.38  1.05   \n",
      "2        3.24                  0.30             2.81             5.68  1.03   \n",
      "3        3.49                  0.24             2.18             7.80  0.86   \n",
      "4        2.69                  0.39             1.82             4.32  1.04   \n",
      "\n",
      "   od280/od315_of_diluted_wines  proline  \n",
      "0                          3.92   1065.0  \n",
      "1                          3.40   1050.0  \n",
      "2                          3.17   1185.0  \n",
      "3                          3.45   1480.0  \n",
      "4                          2.93    735.0  \n"
     ]
    }
   ],
   "source": [
    "# Import libraries\n",
    "import pandas as pd\n",
    "from sklearn.datasets import load_wine\n",
    "\n",
    "# Load wine dataset\n",
    "wine = load_wine()\n",
    "\n",
    "# Convert data and feature names to Pandas DataFrame\n",
    "wine_df = pd.DataFrame(data=wine.data, columns=wine.feature_names)\n",
    "\n",
    "# Display the first few rows of the data set\n",
    "print(\"Display the first few rows of the data set:\")\n",
    "print(wine_df.head())"
   ]
  },
  {
   "cell_type": "markdown",
   "id": "d861c115",
   "metadata": {},
   "source": [
    "### Step 2: Define features and target variables"
   ]
  },
  {
   "cell_type": "code",
   "execution_count": 19,
   "id": "2306a8b5",
   "metadata": {},
   "outputs": [],
   "source": [
    "# Define features and target variables\n",
    "X = wine.data\n",
    "y = wine.target"
   ]
  },
  {
   "cell_type": "markdown",
   "id": "09d1a8c0",
   "metadata": {},
   "source": [
    "### Setp 3: Split the dataset into training and testing sets"
   ]
  },
  {
   "cell_type": "code",
   "execution_count": null,
   "id": "2c1c23ec",
   "metadata": {},
   "outputs": [],
   "source": [
    "# Import function\n",
    "from sklearn.model_selection import train_test_split\n",
    "\n",
    "# Split the dataset into 80% training and 20% testing sets\n",
    "X_train, X_test, y_train, y_test = train_test_split(X, y, test_size=0.2, random_state=42)\n"
   ]
  },
  {
   "cell_type": "markdown",
   "id": "5c6f6372",
   "metadata": {},
   "source": [
    "### Step 4: Training GaussianNB and MultinomialNB classifiers"
   ]
  },
  {
   "cell_type": "code",
   "execution_count": 30,
   "id": "db38e2c5",
   "metadata": {},
   "outputs": [
    {
     "name": "stdout",
     "output_type": "stream",
     "text": [
      "GaussianNB accuracy: 1.00\n",
      "MultinomialNB accuracy: 0.89\n"
     ]
    },
    {
     "data": {
      "image/png": "[encoded data removed]",
      "text/plain": [
       "<Figure size 640x480 with 1 Axes>"
      ]
     },
     "metadata": {},
     "output_type": "display_data"
    }
   ],
   "source": [
    "# Import functions\n",
    "from sklearn.naive_bayes import GaussianNB, MultinomialNB\n",
    "from sklearn.metrics import accuracy_score\n",
    "import matplotlib.pyplot as plt\n",
    "\n",
    "# Gaussian Naive Bayes\n",
    "gnb = GaussianNB()\n",
    "gnb.fit(X_train, y_train)\n",
    "y_pred_gnb = gnb.predict(X_test)\n",
    "acc_gnb = accuracy_score(y_test, y_pred_gnb)\n",
    "\n",
    "# Multinomial Naive Bayes\n",
    "mnb = MultinomialNB()\n",
    "mnb.fit(X_train, y_train)\n",
    "y_pred_mnb = mnb.predict(X_test)\n",
    "acc_mnb = accuracy_score(y_test, y_pred_mnb)\n",
    "\n",
    "# Display the accuracy of both models\n",
    "print(f\"GaussianNB accuracy: {acc_gnb:.2f}\")\n",
    "print(f\"MultinomialNB accuracy: {acc_mnb:.2f}\")\n",
    "\n",
    "# Model name and accuracy\n",
    "models = ['GaussianNB', 'MultinomialNB']\n",
    "accuracies = [acc_gnb, acc_mnb]\n",
    "\n",
    "# Display a bar graph\n",
    "plt.bar(models, accuracies, color=['skyblue', 'orange'])\n",
    "plt.ylim(0, 1)\n",
    "plt.ylabel('Accuracy')\n",
    "plt.title('GaussianNB Accuracy vs. MultinomialNB Accuracy')\n",
    "plt.show()\n"
   ]
  },
  {
   "cell_type": "markdown",
   "id": "0e34412f",
   "metadata": {},
   "source": [
    "We get the GaussianNB accuracy is 1.00, and the MultinomialNB accuracy is 0.89. Compared these two models, GaussianNB is better than MultinomialNB.\n",
    "\n",
    "### Step 5: Use the best model (GaussianNB model) to predict the test set"
   ]
  },
  {
   "cell_type": "code",
   "execution_count": 27,
   "id": "0611c894",
   "metadata": {},
   "outputs": [
    {
     "name": "stdout",
     "output_type": "stream",
     "text": [
      "Predicted classification of dataset: [0 0 2 0 1 0 1 2 1 2 0 2 0 1 0 1 1 1 0 1 0 1 1 2 2 2 1 1 1 0 0 1 2 0 0 0]\n",
      "Actual classification: [0 0 2 0 1 0 1 2 1 2 0 2 0 1 0 1 1 1 0 1 0 1 1 2 2 2 1 1 1 0 0 1 2 0 0 0]\n"
     ]
    }
   ],
   "source": [
    "# Using GaussianNB model to predict samples in the test set\n",
    "sample_pred = gnb.predict(X_test)\n",
    "\n",
    "# Display the predicted classifications for test set samples\n",
    "print(\"Predicted classification of dataset:\", sample_pred)\n",
    "print(\"Actual classification:\", y_test)"
   ]
  },
  {
   "cell_type": "markdown",
   "id": "ff29951d",
   "metadata": {},
   "source": [
    "The GaussianNB model performs well on the test set. All samples are predicted correctly, indicating that the classification effect is excellent."
   ]
  },
  {
   "cell_type": "markdown",
   "id": "3feb5e81",
   "metadata": {},
   "source": [
    "### Observations and reflections:\n",
    "- The features of the wine dataset are continuous data; thus, GaussianNB is more suitable.\n",
    "- MultinomialNB accuracy is not the best, because this model is suitable for discrete features.\n",
    "- Both models are very fast to train and are suitable for baseline establishment.\n",
    "\n",
    "### Conclusion:\n",
    "Compare these two models in this project; the GaussianNB is better than the MultinomialNB. Because the wine dataset has continuous features."
   ]
  }
 ],
 "metadata": {
  "kernelspec": {
   "display_name": "base",
   "language": "python",
   "name": "python3"
  },
  "language_info": {
   "codemirror_mode": {
    "name": "ipython",
    "version": 3
   },
   "file_extension": ".py",
   "mimetype": "text/x-python",
   "name": "python",
   "nbconvert_exporter": "python",
   "pygments_lexer": "ipython3",
   "version": "3.12.7"
  }
 },
 "nbformat": 4,
 "nbformat_minor": 5
}
